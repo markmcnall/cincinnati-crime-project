{
 "cells": [
  {
   "cell_type": "code",
   "execution_count": 1,
   "metadata": {},
   "outputs": [],
   "source": [
    "%matplotlib inline\n",
    "import pandas as pd\n",
    "import numpy as np\n",
    "import datetime"
   ]
  },
  {
   "cell_type": "code",
   "execution_count": 2,
   "metadata": {},
   "outputs": [],
   "source": [
    "from IPython.core.display import HTML\n",
    "css = open('style-table.css').read() + open('style-notebook.css').read()\n",
    "HTML('<style>{}</style>'.format(css));"
   ]
  },
  {
   "cell_type": "markdown",
   "metadata": {},
   "source": [
    "## Importing Data"
   ]
  },
  {
   "cell_type": "code",
   "execution_count": 3,
   "metadata": {},
   "outputs": [],
   "source": [
    "# set up dict of dtypes\n",
    "dtypes = {\n",
    "        'CASE_REPORT_NO' : object,\n",
    "        'OFFENSE' : str,\n",
    "        'ORC' : str,\n",
    "        'OFFENSE_NO' : np.float64,\n",
    "        'OCCURRED_ON' : object,\n",
    "        'REPORTED_ON' : object,\n",
    "        'BLOCK_BEGIN' : np.float64,\n",
    "        'BLOCK_END' : np.float64,\n",
    "        'STREET_NAME' : str,\n",
    "        'CITY' : object,\n",
    "        'ADDRESS_STATE' : object,\n",
    "        'DISTRICT' : object,\n",
    "        'BEAT' : object,\n",
    "        'REPORTING_AREA' : object,\n",
    "        'NEIGHBORHOOD' : str,\n",
    "        'DATATYPE_ID' : object, \n",
    "        'REPORTED_BY_OFFICER' : object,\n",
    "        'REPORTED_BY_OFFICER_BADGE_NO' : object,\n",
    "        'UCR' : object,\n",
    "        'THEFT_CODE' : object\n",
    "        }"
   ]
  },
  {
   "cell_type": "code",
   "execution_count": 4,
   "metadata": {},
   "outputs": [],
   "source": [
    "# read in raw data\n",
    "df = pd.read_csv(r'data/Crime_Incidents.csv', header=0, dtype=dtypes, parse_dates=['OCCURRED_ON'])"
   ]
  },
  {
   "cell_type": "markdown",
   "metadata": {},
   "source": [
    "## Getting rid of unwanted data"
   ]
  },
  {
   "cell_type": "code",
   "execution_count": 5,
   "metadata": {},
   "outputs": [],
   "source": [
    "# drop all unwanted columns from raw data\n",
    "to_drop = ['CASE_REPORT_NO', 'OFFENSE_NO', 'CITY', 'ADDRESS_STATE', 'DISTRICT', 'BEAT', 'REPORTING_AREA', 'DATATYPE_ID',\n",
    "                'REPORTED_BY_OFFICER', 'REPORTED_BY_OFFICER_BADGE_NO', 'UCR', 'THEFT_CODE', 'REPORTED_ON']\n",
    "df = df.drop(labels=to_drop, axis=1)"
   ]
  },
  {
   "cell_type": "code",
   "execution_count": 6,
   "metadata": {},
   "outputs": [],
   "source": [
    "# rename all remaining columns\n",
    "new_cols = [ \n",
    "        'offense', 'orc', 'date', 'block_begin', 'block_end', 'street_name', 'neighborhood' \n",
    "        ]\n",
    "\n",
    "df.columns = new_cols"
   ]
  },
  {
   "cell_type": "markdown",
   "metadata": {},
   "source": [
    "## Cleaning up the remaining data"
   ]
  },
  {
   "cell_type": "code",
   "execution_count": 7,
   "metadata": {},
   "outputs": [
    {
     "data": {
      "text/plain": [
       "date\n",
       "1991.0        6\n",
       "1992.0        1\n",
       "1993.0        2\n",
       "1994.0        2\n",
       "1995.0        2\n",
       "1996.0        3\n",
       "1997.0        3\n",
       "1998.0        5\n",
       "1999.0        6\n",
       "2000.0       16\n",
       "2001.0       11\n",
       "2002.0       14\n",
       "2003.0       19\n",
       "2004.0       18\n",
       "2005.0       32\n",
       "2006.0       47\n",
       "2007.0       63\n",
       "2008.0       90\n",
       "2009.0      174\n",
       "2010.0    21090\n",
       "2011.0    38094\n",
       "2012.0    35917\n",
       "2013.0    32843\n",
       "2014.0    31013\n",
       "2015.0    31643\n",
       "2016.0    30354\n",
       "2017.0    25580\n",
       "dtype: int64"
      ]
     },
     "execution_count": 7,
     "metadata": {},
     "output_type": "execute_result"
    }
   ],
   "source": [
    "# check crimes per year, output suggests delete all data before 2010\n",
    "df.groupby(df.date.dt.year).size()"
   ]
  },
  {
   "cell_type": "code",
   "execution_count": 8,
   "metadata": {},
   "outputs": [
    {
     "data": {
      "text/plain": [
       "date\n",
       "1.0       81\n",
       "2.0       14\n",
       "3.0       35\n",
       "4.0       37\n",
       "5.0       68\n",
       "6.0      265\n",
       "7.0     3855\n",
       "8.0     3716\n",
       "9.0     3491\n",
       "10.0    3516\n",
       "11.0    3178\n",
       "12.0    2834\n",
       "dtype: int64"
      ]
     },
     "execution_count": 8,
     "metadata": {},
     "output_type": "execute_result"
    }
   ],
   "source": [
    "# let's take a closer look at 2010, as the total appears to be a bit low...\n",
    "df[df.date.dt.year == 2010].groupby(df.date.dt.month).size()\n",
    "# so data isn't reliable until July, 2010"
   ]
  },
  {
   "cell_type": "code",
   "execution_count": 9,
   "metadata": {},
   "outputs": [],
   "source": [
    "# set limit at July 1, 2010, and delete data prior to the limit\n",
    "limit = datetime.date(2010, 7 , 1)\n",
    "df = df[df.date.dt.date >= limit]"
   ]
  },
  {
   "cell_type": "code",
   "execution_count": 10,
   "metadata": {},
   "outputs": [
    {
     "data": {
      "text/plain": [
       "date\n",
       "7     3855\n",
       "8     3716\n",
       "9     3491\n",
       "10    3516\n",
       "11    3178\n",
       "12    2834\n",
       "dtype: int64"
      ]
     },
     "execution_count": 10,
     "metadata": {},
     "output_type": "execute_result"
    }
   ],
   "source": [
    "# that looks better!\n",
    "df[df.date.dt.year == 2010].groupby(df.date.dt.month).size()"
   ]
  },
  {
   "cell_type": "code",
   "execution_count": 11,
   "metadata": {},
   "outputs": [],
   "source": [
    "# for some reason, street_name was dtype = object, and had some floats, so convert all to strings\n",
    "df.street_name = df.street_name.apply(str)"
   ]
  },
  {
   "cell_type": "code",
   "execution_count": 12,
   "metadata": {},
   "outputs": [],
   "source": [
    "# let's make all text columns lowercase (street name isn't working)\n",
    "lower_cols = ['offense', 'orc', 'street_name', 'neighborhood']\n",
    "df[lower_cols] = df[lower_cols].applymap(str.lower)"
   ]
  },
  {
   "cell_type": "code",
   "execution_count": 13,
   "metadata": {},
   "outputs": [],
   "source": [
    "# add columns for year and month to make analyzing crimes over time easier later\n",
    "df = df.assign(month=df.date.dt.strftime('%m'))\n",
    "df = df.assign(year=df.date.dt.strftime('%Y'))"
   ]
  },
  {
   "cell_type": "markdown",
   "metadata": {},
   "source": [
    "## Creating geospatial data"
   ]
  },
  {
   "cell_type": "markdown",
   "metadata": {},
   "source": [
    "When I first attempted to set addresses, I ran into errors with (surprise!) null values. Let's take a closer look at those first."
   ]
  },
  {
   "cell_type": "code",
   "execution_count": 14,
   "metadata": {},
   "outputs": [
    {
     "data": {
      "text/plain": [
       "offense                        telecommunications harassment\n",
       "orc             2917-21 (90z) -telecommunications harassment\n",
       "date                                     2012-08-28 12:00:00\n",
       "block_begin                                              NaN\n",
       "block_end                                                NaN\n",
       "street_name                                              nan\n",
       "neighborhood                                        millvale\n",
       "month                                                     08\n",
       "year                                                    2012\n",
       "Name: 81, dtype: object"
      ]
     },
     "execution_count": 14,
     "metadata": {},
     "output_type": "execute_result"
    }
   ],
   "source": [
    "# upon closer look, 502 entires have a 'block_begin', 'block_end', and 'street_name' of null\n",
    "# let's look at one\n",
    "df.loc[81]\n",
    "\n",
    "# telecommunications harassment? this won't be useful for any analysis involving location"
   ]
  },
  {
   "cell_type": "code",
   "execution_count": 15,
   "metadata": {},
   "outputs": [],
   "source": [
    "# I'm going to move them to their own smaller dataframes to inspect further\n",
    "block_begin_null = df[df.block_begin.isnull()]\n",
    "block_end_null = df[df.block_begin.isnull()]\n",
    "street_name_null = df[df.street_name == 'nan']"
   ]
  },
  {
   "cell_type": "code",
   "execution_count": 16,
   "metadata": {},
   "outputs": [
    {
     "data": {
      "text/plain": [
       "True"
      ]
     },
     "execution_count": 16,
     "metadata": {},
     "output_type": "execute_result"
    }
   ],
   "source": [
    "# let's compare\n",
    "block_begin_null.equals(block_end_null)"
   ]
  },
  {
   "cell_type": "code",
   "execution_count": 17,
   "metadata": {},
   "outputs": [
    {
     "data": {
      "text/plain": [
       "True"
      ]
     },
     "execution_count": 17,
     "metadata": {},
     "output_type": "execute_result"
    }
   ],
   "source": [
    "block_end_null.equals(street_name_null)"
   ]
  },
  {
   "cell_type": "code",
   "execution_count": 18,
   "metadata": {},
   "outputs": [],
   "source": [
    "# so these 502 entries are all the same and can be removed\n",
    "df = df[df.block_begin.notnull()]"
   ]
  },
  {
   "cell_type": "code",
   "execution_count": 19,
   "metadata": {},
   "outputs": [],
   "source": [
    "# we should now be able to create a new column with the entire address\n",
    "# first, since the addresses are given only to a block, I decided to make each crime \"happen\" at the middle of the block\n",
    "df2 = df.assign(block_avg=(np.int32(np.ceil((df.block_begin + df.block_end) / 2))))\n",
    "\n",
    "# convert to string\n",
    "df2.block_avg = df2.block_avg.apply(str)"
   ]
  },
  {
   "cell_type": "code",
   "execution_count": 20,
   "metadata": {},
   "outputs": [],
   "source": [
    "# now, create the address!\n",
    "df2['address'] = df2.block_avg + ' ' + df2.street_name + ', cincinnati, oh'"
   ]
  },
  {
   "cell_type": "code",
   "execution_count": 21,
   "metadata": {},
   "outputs": [
    {
     "data": {
      "text/html": [
       "<div>\n",
       "<style>\n",
       "    .dataframe thead tr:only-child th {\n",
       "        text-align: right;\n",
       "    }\n",
       "\n",
       "    .dataframe thead th {\n",
       "        text-align: left;\n",
       "    }\n",
       "\n",
       "    .dataframe tbody tr th {\n",
       "        vertical-align: top;\n",
       "    }\n",
       "</style>\n",
       "<table border=\"1\" class=\"dataframe\">\n",
       "  <thead>\n",
       "    <tr style=\"text-align: right;\">\n",
       "      <th></th>\n",
       "      <th>offense</th>\n",
       "      <th>orc</th>\n",
       "      <th>date</th>\n",
       "      <th>block_begin</th>\n",
       "      <th>block_end</th>\n",
       "      <th>street_name</th>\n",
       "      <th>neighborhood</th>\n",
       "      <th>month</th>\n",
       "      <th>year</th>\n",
       "      <th>block_avg</th>\n",
       "      <th>address</th>\n",
       "    </tr>\n",
       "  </thead>\n",
       "  <tbody>\n",
       "    <tr>\n",
       "      <th>0</th>\n",
       "      <td>theft -(from motor vehicle)</td>\n",
       "      <td>2913-02 (23f) -theft -(from motor vehicle)</td>\n",
       "      <td>2014-02-22 00:01:00</td>\n",
       "      <td>100.0</td>\n",
       "      <td>199.0</td>\n",
       "      <td>e court st</td>\n",
       "      <td>c. b. d. / riverfront</td>\n",
       "      <td>02</td>\n",
       "      <td>2014</td>\n",
       "      <td>150</td>\n",
       "      <td>150 e court st, cincinnati, oh</td>\n",
       "    </tr>\n",
       "    <tr>\n",
       "      <th>1</th>\n",
       "      <td>felonious assault -(aggravated assault)</td>\n",
       "      <td>2903-11 (13a) -felonious assault -(aggravated ...</td>\n",
       "      <td>2011-08-05 12:30:00</td>\n",
       "      <td>900.0</td>\n",
       "      <td>999.0</td>\n",
       "      <td>ezzard charles dr</td>\n",
       "      <td>west  end</td>\n",
       "      <td>08</td>\n",
       "      <td>2011</td>\n",
       "      <td>950</td>\n",
       "      <td>950 ezzard charles dr, cincinnati, oh</td>\n",
       "    </tr>\n",
       "    <tr>\n",
       "      <th>2</th>\n",
       "      <td>criminal damaging/endangering</td>\n",
       "      <td>2909-06 (290) -criminal damaging/endangering</td>\n",
       "      <td>2016-06-08 10:00:00</td>\n",
       "      <td>2100.0</td>\n",
       "      <td>2199.0</td>\n",
       "      <td>weron ln</td>\n",
       "      <td>east  westwood</td>\n",
       "      <td>06</td>\n",
       "      <td>2016</td>\n",
       "      <td>2150</td>\n",
       "      <td>2150 weron ln, cincinnati, oh</td>\n",
       "    </tr>\n",
       "    <tr>\n",
       "      <th>3</th>\n",
       "      <td>assault -(simple assault)</td>\n",
       "      <td>2903-13 (13b) -assault -(simple assault)</td>\n",
       "      <td>2015-05-15 16:25:00</td>\n",
       "      <td>1600.0</td>\n",
       "      <td>1699.0</td>\n",
       "      <td>ross av</td>\n",
       "      <td>east price hill</td>\n",
       "      <td>05</td>\n",
       "      <td>2015</td>\n",
       "      <td>1650</td>\n",
       "      <td>1650 ross av, cincinnati, oh</td>\n",
       "    </tr>\n",
       "    <tr>\n",
       "      <th>4</th>\n",
       "      <td>breaking and entering</td>\n",
       "      <td>2911-13 (220) -breaking and entering</td>\n",
       "      <td>2012-06-17 06:00:00</td>\n",
       "      <td>800.0</td>\n",
       "      <td>899.0</td>\n",
       "      <td>hutchins av</td>\n",
       "      <td>avondale</td>\n",
       "      <td>06</td>\n",
       "      <td>2012</td>\n",
       "      <td>850</td>\n",
       "      <td>850 hutchins av, cincinnati, oh</td>\n",
       "    </tr>\n",
       "  </tbody>\n",
       "</table>\n",
       "</div>"
      ],
      "text/plain": [
       "                                   offense  \\\n",
       "0              theft -(from motor vehicle)   \n",
       "1  felonious assault -(aggravated assault)   \n",
       "2            criminal damaging/endangering   \n",
       "3                assault -(simple assault)   \n",
       "4                    breaking and entering   \n",
       "\n",
       "                                                 orc                date  \\\n",
       "0         2913-02 (23f) -theft -(from motor vehicle) 2014-02-22 00:01:00   \n",
       "1  2903-11 (13a) -felonious assault -(aggravated ... 2011-08-05 12:30:00   \n",
       "2       2909-06 (290) -criminal damaging/endangering 2016-06-08 10:00:00   \n",
       "3           2903-13 (13b) -assault -(simple assault) 2015-05-15 16:25:00   \n",
       "4               2911-13 (220) -breaking and entering 2012-06-17 06:00:00   \n",
       "\n",
       "   block_begin  block_end        street_name           neighborhood month  \\\n",
       "0        100.0      199.0         e court st  c. b. d. / riverfront    02   \n",
       "1        900.0      999.0  ezzard charles dr              west  end    08   \n",
       "2       2100.0     2199.0           weron ln         east  westwood    06   \n",
       "3       1600.0     1699.0            ross av        east price hill    05   \n",
       "4        800.0      899.0        hutchins av               avondale    06   \n",
       "\n",
       "   year block_avg                                address  \n",
       "0  2014       150         150 e court st, cincinnati, oh  \n",
       "1  2011       950  950 ezzard charles dr, cincinnati, oh  \n",
       "2  2016      2150          2150 weron ln, cincinnati, oh  \n",
       "3  2015      1650           1650 ross av, cincinnati, oh  \n",
       "4  2012       850        850 hutchins av, cincinnati, oh  "
      ]
     },
     "execution_count": 21,
     "metadata": {},
     "output_type": "execute_result"
    }
   ],
   "source": [
    "# it works!\n",
    "df2.head()"
   ]
  },
  {
   "cell_type": "code",
   "execution_count": 22,
   "metadata": {},
   "outputs": [],
   "source": [
    "# next, it would be helpful to convert addresses to a set of cordinates\n",
    "# edit: maybe not necessary, google fusion tables is parsing current address format fine"
   ]
  },
  {
   "cell_type": "code",
   "execution_count": 23,
   "metadata": {},
   "outputs": [],
   "source": [
    "# write out final dataframe to csv file for analysis!\n",
    "df2.to_csv('data/final_crime_data.csv')"
   ]
  },
  {
   "cell_type": "code",
   "execution_count": 24,
   "metadata": {},
   "outputs": [
    {
     "data": {
      "text/plain": [
       "<matplotlib.axes._subplots.AxesSubplot at 0x12f18470>"
      ]
     },
     "execution_count": 24,
     "metadata": {},
     "output_type": "execute_result"
    },
    {
     "data": {
      "image/png": "[encoded data removed]",
      "text/plain": [
       "<matplotlib.figure.Figure at 0x12f184f0>"
      ]
     },
     "metadata": {},
     "output_type": "display_data"
    }
   ],
   "source": [
    "#we can now visualize for the first time the data\n",
    "df.groupby(['year','month']).size().plot()"
   ]
  },
  {
   "cell_type": "code",
   "execution_count": 25,
   "metadata": {},
   "outputs": [
    {
     "data": {
      "text/plain": [
       "<matplotlib.axes._subplots.AxesSubplot at 0x13012f10>"
      ]
     },
     "execution_count": 25,
     "metadata": {},
     "output_type": "execute_result"
    },
    {
     "data": {
      "image/png": "[encoded data removed]",
      "text/plain": [
       "<matplotlib.figure.Figure at 0x1324a530>"
      ]
     },
     "metadata": {},
     "output_type": "display_data"
    }
   ],
   "source": [
    "#let's see if we can graph each year as a seprate line\n",
    "#months = ['January', 'February', 'March', 'April', 'May', 'June', \n",
    "    #'July', 'August', 'September', 'October', 'November', 'December']\n",
    "df2 = df.groupby(['year', 'month']).size()\n",
    "df2.unstack(0).plot(xlim=[0,12], ylim=[0,4000])"
   ]
  },
  {
   "cell_type": "code",
   "execution_count": null,
   "metadata": {},
   "outputs": [],
   "source": []
  },
  {
   "cell_type": "code",
   "execution_count": null,
   "metadata": {},
   "outputs": [],
   "source": []
  },
  {
   "cell_type": "code",
   "execution_count": null,
   "metadata": {},
   "outputs": [],
   "source": []
  },
  {
   "cell_type": "code",
   "execution_count": null,
   "metadata": {},
   "outputs": [],
   "source": []
  },
  {
   "cell_type": "code",
   "execution_count": null,
   "metadata": {},
   "outputs": [],
   "source": []
  },
  {
   "cell_type": "code",
   "execution_count": null,
   "metadata": {},
   "outputs": [],
   "source": []
  }
 ],
 "metadata": {
  "kernelspec": {
   "display_name": "Python 3",
   "language": "python",
   "name": "python3"
  },
  "language_info": {
   "codemirror_mode": {
    "name": "ipython",
    "version": 3
   },
   "file_extension": ".py",
   "mimetype": "text/x-python",
   "name": "python",
   "nbconvert_exporter": "python",
   "pygments_lexer": "ipython3",
   "version": "3.6.2"
  }
 },
 "nbformat": 4,
 "nbformat_minor": 2
}
